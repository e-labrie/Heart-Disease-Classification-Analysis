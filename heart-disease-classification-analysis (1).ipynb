{
 "cells": [
  {
   "cell_type": "code",
   "execution_count": 1,
   "id": "69fd54ef",
   "metadata": {
    "_cell_guid": "b1076dfc-b9ad-4769-8c92-a6c4dae69d19",
    "_uuid": "8f2839f25d086af736a60e9eeb907d3b93b6e0e5",
    "execution": {
     "iopub.execute_input": "2024-09-13T19:49:48.792122Z",
     "iopub.status.busy": "2024-09-13T19:49:48.791711Z",
     "iopub.status.idle": "2024-09-13T19:49:49.681682Z",
     "shell.execute_reply": "2024-09-13T19:49:49.680650Z"
    },
    "papermill": {
     "duration": 0.907504,
     "end_time": "2024-09-13T19:49:49.684537",
     "exception": false,
     "start_time": "2024-09-13T19:49:48.777033",
     "status": "completed"
    },
    "tags": []
   },
   "outputs": [
    {
     "name": "stdout",
     "output_type": "stream",
     "text": [
      "/kaggle/input/heart-disease-classification-dataset/Heart Attack.csv\n"
     ]
    }
   ],
   "source": [
    "# The following code demonstrates my data analytics and statistics skills using numpy and pandas functions.\n",
    "# I gathered the basic data such as the data types for each variable and the descriptive statistics.\n",
    "# I renamed the columns of the dataframe.\n",
    "# I created functions to calculate the mean and perform a t-test on the variables, and created a table showing the mean and p-value for each variable.\n",
    "\n",
    "import numpy as np # linear algebra\n",
    "import pandas as pd # data processing, CSV file I/O (e.g. pd.read_csv)\n",
    "\n",
    "import os\n",
    "for dirname, _, filenames in os.walk('/kaggle/input'):\n",
    "    for filename in filenames:\n",
    "        print(os.path.join(dirname, filename))"
   ]
  },
  {
   "cell_type": "code",
   "execution_count": 2,
   "id": "83e791a0",
   "metadata": {
    "execution": {
     "iopub.execute_input": "2024-09-13T19:49:49.711919Z",
     "iopub.status.busy": "2024-09-13T19:49:49.711377Z",
     "iopub.status.idle": "2024-09-13T19:49:49.757689Z",
     "shell.execute_reply": "2024-09-13T19:49:49.756580Z"
    },
    "papermill": {
     "duration": 0.06288,
     "end_time": "2024-09-13T19:49:49.760421",
     "exception": false,
     "start_time": "2024-09-13T19:49:49.697541",
     "status": "completed"
    },
    "tags": []
   },
   "outputs": [
    {
     "data": {
      "text/html": [
       "<div>\n",
       "<style scoped>\n",
       "    .dataframe tbody tr th:only-of-type {\n",
       "        vertical-align: middle;\n",
       "    }\n",
       "\n",
       "    .dataframe tbody tr th {\n",
       "        vertical-align: top;\n",
       "    }\n",
       "\n",
       "    .dataframe thead th {\n",
       "        text-align: right;\n",
       "    }\n",
       "</style>\n",
       "<table border=\"1\" class=\"dataframe\">\n",
       "  <thead>\n",
       "    <tr style=\"text-align: right;\">\n",
       "      <th></th>\n",
       "      <th>age</th>\n",
       "      <th>gender</th>\n",
       "      <th>impluse</th>\n",
       "      <th>pressurehight</th>\n",
       "      <th>pressurelow</th>\n",
       "      <th>glucose</th>\n",
       "      <th>kcm</th>\n",
       "      <th>troponin</th>\n",
       "      <th>class</th>\n",
       "    </tr>\n",
       "  </thead>\n",
       "  <tbody>\n",
       "    <tr>\n",
       "      <th>0</th>\n",
       "      <td>64</td>\n",
       "      <td>1</td>\n",
       "      <td>66</td>\n",
       "      <td>160</td>\n",
       "      <td>83</td>\n",
       "      <td>160.0</td>\n",
       "      <td>1.80</td>\n",
       "      <td>0.012</td>\n",
       "      <td>negative</td>\n",
       "    </tr>\n",
       "    <tr>\n",
       "      <th>1</th>\n",
       "      <td>21</td>\n",
       "      <td>1</td>\n",
       "      <td>94</td>\n",
       "      <td>98</td>\n",
       "      <td>46</td>\n",
       "      <td>296.0</td>\n",
       "      <td>6.75</td>\n",
       "      <td>1.060</td>\n",
       "      <td>positive</td>\n",
       "    </tr>\n",
       "    <tr>\n",
       "      <th>2</th>\n",
       "      <td>55</td>\n",
       "      <td>1</td>\n",
       "      <td>64</td>\n",
       "      <td>160</td>\n",
       "      <td>77</td>\n",
       "      <td>270.0</td>\n",
       "      <td>1.99</td>\n",
       "      <td>0.003</td>\n",
       "      <td>negative</td>\n",
       "    </tr>\n",
       "    <tr>\n",
       "      <th>3</th>\n",
       "      <td>64</td>\n",
       "      <td>1</td>\n",
       "      <td>70</td>\n",
       "      <td>120</td>\n",
       "      <td>55</td>\n",
       "      <td>270.0</td>\n",
       "      <td>13.87</td>\n",
       "      <td>0.122</td>\n",
       "      <td>positive</td>\n",
       "    </tr>\n",
       "    <tr>\n",
       "      <th>4</th>\n",
       "      <td>55</td>\n",
       "      <td>1</td>\n",
       "      <td>64</td>\n",
       "      <td>112</td>\n",
       "      <td>65</td>\n",
       "      <td>300.0</td>\n",
       "      <td>1.08</td>\n",
       "      <td>0.003</td>\n",
       "      <td>negative</td>\n",
       "    </tr>\n",
       "  </tbody>\n",
       "</table>\n",
       "</div>"
      ],
      "text/plain": [
       "   age  gender  impluse  pressurehight  pressurelow  glucose    kcm  troponin  \\\n",
       "0   64       1       66            160           83    160.0   1.80     0.012   \n",
       "1   21       1       94             98           46    296.0   6.75     1.060   \n",
       "2   55       1       64            160           77    270.0   1.99     0.003   \n",
       "3   64       1       70            120           55    270.0  13.87     0.122   \n",
       "4   55       1       64            112           65    300.0   1.08     0.003   \n",
       "\n",
       "      class  \n",
       "0  negative  \n",
       "1  positive  \n",
       "2  negative  \n",
       "3  positive  \n",
       "4  negative  "
      ]
     },
     "execution_count": 2,
     "metadata": {},
     "output_type": "execute_result"
    }
   ],
   "source": [
    "data = pd.read_csv('/kaggle/input/heart-disease-classification-dataset/Heart Attack.csv')\n",
    "data.head()\n",
    "\n",
    "# impulse = HR, kcm = CK-MB, class = presence of heart attack, gender: 0=F, 1=M"
   ]
  },
  {
   "cell_type": "code",
   "execution_count": 3,
   "id": "76e5418d",
   "metadata": {
    "execution": {
     "iopub.execute_input": "2024-09-13T19:49:49.788840Z",
     "iopub.status.busy": "2024-09-13T19:49:49.787927Z",
     "iopub.status.idle": "2024-09-13T19:49:49.796107Z",
     "shell.execute_reply": "2024-09-13T19:49:49.795044Z"
    },
    "papermill": {
     "duration": 0.024742,
     "end_time": "2024-09-13T19:49:49.798452",
     "exception": false,
     "start_time": "2024-09-13T19:49:49.773710",
     "status": "completed"
    },
    "tags": []
   },
   "outputs": [
    {
     "data": {
      "text/plain": [
       "age                int64\n",
       "gender             int64\n",
       "impluse            int64\n",
       "pressurehight      int64\n",
       "pressurelow        int64\n",
       "glucose          float64\n",
       "kcm              float64\n",
       "troponin         float64\n",
       "class             object\n",
       "dtype: object"
      ]
     },
     "execution_count": 3,
     "metadata": {},
     "output_type": "execute_result"
    }
   ],
   "source": [
    "# checking data types\n",
    "data.dtypes"
   ]
  },
  {
   "cell_type": "code",
   "execution_count": 4,
   "id": "9f46c978",
   "metadata": {
    "execution": {
     "iopub.execute_input": "2024-09-13T19:49:49.828333Z",
     "iopub.status.busy": "2024-09-13T19:49:49.827416Z",
     "iopub.status.idle": "2024-09-13T19:49:49.853256Z",
     "shell.execute_reply": "2024-09-13T19:49:49.852268Z"
    },
    "papermill": {
     "duration": 0.044155,
     "end_time": "2024-09-13T19:49:49.855776",
     "exception": false,
     "start_time": "2024-09-13T19:49:49.811621",
     "status": "completed"
    },
    "tags": []
   },
   "outputs": [
    {
     "data": {
      "text/html": [
       "<div>\n",
       "<style scoped>\n",
       "    .dataframe tbody tr th:only-of-type {\n",
       "        vertical-align: middle;\n",
       "    }\n",
       "\n",
       "    .dataframe tbody tr th {\n",
       "        vertical-align: top;\n",
       "    }\n",
       "\n",
       "    .dataframe thead th {\n",
       "        text-align: right;\n",
       "    }\n",
       "</style>\n",
       "<table border=\"1\" class=\"dataframe\">\n",
       "  <thead>\n",
       "    <tr style=\"text-align: right;\">\n",
       "      <th></th>\n",
       "      <th>age</th>\n",
       "      <th>gender</th>\n",
       "      <th>hr</th>\n",
       "      <th>systolic</th>\n",
       "      <th>diastolic</th>\n",
       "      <th>glucose</th>\n",
       "      <th>kcm</th>\n",
       "      <th>troponin</th>\n",
       "      <th>heart_attack</th>\n",
       "    </tr>\n",
       "  </thead>\n",
       "  <tbody>\n",
       "    <tr>\n",
       "      <th>0</th>\n",
       "      <td>64</td>\n",
       "      <td>1</td>\n",
       "      <td>66</td>\n",
       "      <td>160</td>\n",
       "      <td>83</td>\n",
       "      <td>160.0</td>\n",
       "      <td>1.80</td>\n",
       "      <td>0.012</td>\n",
       "      <td>negative</td>\n",
       "    </tr>\n",
       "    <tr>\n",
       "      <th>1</th>\n",
       "      <td>21</td>\n",
       "      <td>1</td>\n",
       "      <td>94</td>\n",
       "      <td>98</td>\n",
       "      <td>46</td>\n",
       "      <td>296.0</td>\n",
       "      <td>6.75</td>\n",
       "      <td>1.060</td>\n",
       "      <td>positive</td>\n",
       "    </tr>\n",
       "    <tr>\n",
       "      <th>2</th>\n",
       "      <td>55</td>\n",
       "      <td>1</td>\n",
       "      <td>64</td>\n",
       "      <td>160</td>\n",
       "      <td>77</td>\n",
       "      <td>270.0</td>\n",
       "      <td>1.99</td>\n",
       "      <td>0.003</td>\n",
       "      <td>negative</td>\n",
       "    </tr>\n",
       "    <tr>\n",
       "      <th>3</th>\n",
       "      <td>64</td>\n",
       "      <td>1</td>\n",
       "      <td>70</td>\n",
       "      <td>120</td>\n",
       "      <td>55</td>\n",
       "      <td>270.0</td>\n",
       "      <td>13.87</td>\n",
       "      <td>0.122</td>\n",
       "      <td>positive</td>\n",
       "    </tr>\n",
       "    <tr>\n",
       "      <th>4</th>\n",
       "      <td>55</td>\n",
       "      <td>1</td>\n",
       "      <td>64</td>\n",
       "      <td>112</td>\n",
       "      <td>65</td>\n",
       "      <td>300.0</td>\n",
       "      <td>1.08</td>\n",
       "      <td>0.003</td>\n",
       "      <td>negative</td>\n",
       "    </tr>\n",
       "    <tr>\n",
       "      <th>...</th>\n",
       "      <td>...</td>\n",
       "      <td>...</td>\n",
       "      <td>...</td>\n",
       "      <td>...</td>\n",
       "      <td>...</td>\n",
       "      <td>...</td>\n",
       "      <td>...</td>\n",
       "      <td>...</td>\n",
       "      <td>...</td>\n",
       "    </tr>\n",
       "    <tr>\n",
       "      <th>1314</th>\n",
       "      <td>44</td>\n",
       "      <td>1</td>\n",
       "      <td>94</td>\n",
       "      <td>122</td>\n",
       "      <td>67</td>\n",
       "      <td>204.0</td>\n",
       "      <td>1.63</td>\n",
       "      <td>0.006</td>\n",
       "      <td>negative</td>\n",
       "    </tr>\n",
       "    <tr>\n",
       "      <th>1315</th>\n",
       "      <td>66</td>\n",
       "      <td>1</td>\n",
       "      <td>84</td>\n",
       "      <td>125</td>\n",
       "      <td>55</td>\n",
       "      <td>149.0</td>\n",
       "      <td>1.33</td>\n",
       "      <td>0.172</td>\n",
       "      <td>positive</td>\n",
       "    </tr>\n",
       "    <tr>\n",
       "      <th>1316</th>\n",
       "      <td>45</td>\n",
       "      <td>1</td>\n",
       "      <td>85</td>\n",
       "      <td>168</td>\n",
       "      <td>104</td>\n",
       "      <td>96.0</td>\n",
       "      <td>1.24</td>\n",
       "      <td>4.250</td>\n",
       "      <td>positive</td>\n",
       "    </tr>\n",
       "    <tr>\n",
       "      <th>1317</th>\n",
       "      <td>54</td>\n",
       "      <td>1</td>\n",
       "      <td>58</td>\n",
       "      <td>117</td>\n",
       "      <td>68</td>\n",
       "      <td>443.0</td>\n",
       "      <td>5.80</td>\n",
       "      <td>0.359</td>\n",
       "      <td>positive</td>\n",
       "    </tr>\n",
       "    <tr>\n",
       "      <th>1318</th>\n",
       "      <td>51</td>\n",
       "      <td>1</td>\n",
       "      <td>94</td>\n",
       "      <td>157</td>\n",
       "      <td>79</td>\n",
       "      <td>134.0</td>\n",
       "      <td>50.89</td>\n",
       "      <td>1.770</td>\n",
       "      <td>positive</td>\n",
       "    </tr>\n",
       "  </tbody>\n",
       "</table>\n",
       "<p>1319 rows × 9 columns</p>\n",
       "</div>"
      ],
      "text/plain": [
       "      age  gender  hr  systolic  diastolic  glucose    kcm  troponin  \\\n",
       "0      64       1  66       160         83    160.0   1.80     0.012   \n",
       "1      21       1  94        98         46    296.0   6.75     1.060   \n",
       "2      55       1  64       160         77    270.0   1.99     0.003   \n",
       "3      64       1  70       120         55    270.0  13.87     0.122   \n",
       "4      55       1  64       112         65    300.0   1.08     0.003   \n",
       "...   ...     ...  ..       ...        ...      ...    ...       ...   \n",
       "1314   44       1  94       122         67    204.0   1.63     0.006   \n",
       "1315   66       1  84       125         55    149.0   1.33     0.172   \n",
       "1316   45       1  85       168        104     96.0   1.24     4.250   \n",
       "1317   54       1  58       117         68    443.0   5.80     0.359   \n",
       "1318   51       1  94       157         79    134.0  50.89     1.770   \n",
       "\n",
       "     heart_attack  \n",
       "0        negative  \n",
       "1        positive  \n",
       "2        negative  \n",
       "3        positive  \n",
       "4        negative  \n",
       "...           ...  \n",
       "1314     negative  \n",
       "1315     positive  \n",
       "1316     positive  \n",
       "1317     positive  \n",
       "1318     positive  \n",
       "\n",
       "[1319 rows x 9 columns]"
      ]
     },
     "execution_count": 4,
     "metadata": {},
     "output_type": "execute_result"
    }
   ],
   "source": [
    "# renaming columns\n",
    "data = data.rename(columns={'class': 'heart_attack', 'impluse': 'hr', 'pressurehight': 'systolic', 'pressurelow': 'diastolic'})\n",
    "data"
   ]
  },
  {
   "cell_type": "code",
   "execution_count": 5,
   "id": "e5ecb4a1",
   "metadata": {
    "execution": {
     "iopub.execute_input": "2024-09-13T19:49:49.885213Z",
     "iopub.status.busy": "2024-09-13T19:49:49.884852Z",
     "iopub.status.idle": "2024-09-13T19:49:49.895344Z",
     "shell.execute_reply": "2024-09-13T19:49:49.894345Z"
    },
    "papermill": {
     "duration": 0.027869,
     "end_time": "2024-09-13T19:49:49.897638",
     "exception": false,
     "start_time": "2024-09-13T19:49:49.869769",
     "status": "completed"
    },
    "tags": []
   },
   "outputs": [
    {
     "data": {
      "text/plain": [
       "age             0\n",
       "gender          0\n",
       "hr              0\n",
       "systolic        0\n",
       "diastolic       0\n",
       "glucose         0\n",
       "kcm             0\n",
       "troponin        0\n",
       "heart_attack    0\n",
       "dtype: int64"
      ]
     },
     "execution_count": 5,
     "metadata": {},
     "output_type": "execute_result"
    }
   ],
   "source": [
    "# checking for null values\n",
    "data.isnull().sum()"
   ]
  },
  {
   "cell_type": "code",
   "execution_count": 6,
   "id": "ff908a4c",
   "metadata": {
    "execution": {
     "iopub.execute_input": "2024-09-13T19:49:49.927312Z",
     "iopub.status.busy": "2024-09-13T19:49:49.926516Z",
     "iopub.status.idle": "2024-09-13T19:49:49.943744Z",
     "shell.execute_reply": "2024-09-13T19:49:49.942569Z"
    },
    "papermill": {
     "duration": 0.034757,
     "end_time": "2024-09-13T19:49:49.946196",
     "exception": false,
     "start_time": "2024-09-13T19:49:49.911439",
     "status": "completed"
    },
    "tags": []
   },
   "outputs": [
    {
     "data": {
      "text/plain": [
       "0"
      ]
     },
     "execution_count": 6,
     "metadata": {},
     "output_type": "execute_result"
    }
   ],
   "source": [
    "# checking for duplicates\n",
    "data.duplicated().sum()"
   ]
  },
  {
   "cell_type": "markdown",
   "id": "70c46369",
   "metadata": {
    "papermill": {
     "duration": 0.013762,
     "end_time": "2024-09-13T19:49:49.973869",
     "exception": false,
     "start_time": "2024-09-13T19:49:49.960107",
     "status": "completed"
    },
    "tags": []
   },
   "source": [
    "# Exploratory Data Analysis"
   ]
  },
  {
   "cell_type": "code",
   "execution_count": 7,
   "id": "310891d9",
   "metadata": {
    "execution": {
     "iopub.execute_input": "2024-09-13T19:49:50.003244Z",
     "iopub.status.busy": "2024-09-13T19:49:50.002864Z",
     "iopub.status.idle": "2024-09-13T19:49:50.041041Z",
     "shell.execute_reply": "2024-09-13T19:49:50.039812Z"
    },
    "papermill": {
     "duration": 0.055944,
     "end_time": "2024-09-13T19:49:50.043674",
     "exception": false,
     "start_time": "2024-09-13T19:49:49.987730",
     "status": "completed"
    },
    "tags": []
   },
   "outputs": [
    {
     "data": {
      "text/html": [
       "<div>\n",
       "<style scoped>\n",
       "    .dataframe tbody tr th:only-of-type {\n",
       "        vertical-align: middle;\n",
       "    }\n",
       "\n",
       "    .dataframe tbody tr th {\n",
       "        vertical-align: top;\n",
       "    }\n",
       "\n",
       "    .dataframe thead th {\n",
       "        text-align: right;\n",
       "    }\n",
       "</style>\n",
       "<table border=\"1\" class=\"dataframe\">\n",
       "  <thead>\n",
       "    <tr style=\"text-align: right;\">\n",
       "      <th></th>\n",
       "      <th>age</th>\n",
       "      <th>gender</th>\n",
       "      <th>hr</th>\n",
       "      <th>systolic</th>\n",
       "      <th>diastolic</th>\n",
       "      <th>glucose</th>\n",
       "      <th>kcm</th>\n",
       "      <th>troponin</th>\n",
       "    </tr>\n",
       "  </thead>\n",
       "  <tbody>\n",
       "    <tr>\n",
       "      <th>count</th>\n",
       "      <td>1319.000000</td>\n",
       "      <td>1319.000000</td>\n",
       "      <td>1319.000000</td>\n",
       "      <td>1319.000000</td>\n",
       "      <td>1319.000000</td>\n",
       "      <td>1319.000000</td>\n",
       "      <td>1319.000000</td>\n",
       "      <td>1319.000000</td>\n",
       "    </tr>\n",
       "    <tr>\n",
       "      <th>mean</th>\n",
       "      <td>56.191812</td>\n",
       "      <td>0.659591</td>\n",
       "      <td>78.336619</td>\n",
       "      <td>127.170584</td>\n",
       "      <td>72.269143</td>\n",
       "      <td>146.634344</td>\n",
       "      <td>15.274306</td>\n",
       "      <td>0.360942</td>\n",
       "    </tr>\n",
       "    <tr>\n",
       "      <th>std</th>\n",
       "      <td>13.647315</td>\n",
       "      <td>0.474027</td>\n",
       "      <td>51.630270</td>\n",
       "      <td>26.122720</td>\n",
       "      <td>14.033924</td>\n",
       "      <td>74.923045</td>\n",
       "      <td>46.327083</td>\n",
       "      <td>1.154568</td>\n",
       "    </tr>\n",
       "    <tr>\n",
       "      <th>min</th>\n",
       "      <td>14.000000</td>\n",
       "      <td>0.000000</td>\n",
       "      <td>20.000000</td>\n",
       "      <td>42.000000</td>\n",
       "      <td>38.000000</td>\n",
       "      <td>35.000000</td>\n",
       "      <td>0.321000</td>\n",
       "      <td>0.001000</td>\n",
       "    </tr>\n",
       "    <tr>\n",
       "      <th>25%</th>\n",
       "      <td>47.000000</td>\n",
       "      <td>0.000000</td>\n",
       "      <td>64.000000</td>\n",
       "      <td>110.000000</td>\n",
       "      <td>62.000000</td>\n",
       "      <td>98.000000</td>\n",
       "      <td>1.655000</td>\n",
       "      <td>0.006000</td>\n",
       "    </tr>\n",
       "    <tr>\n",
       "      <th>50%</th>\n",
       "      <td>58.000000</td>\n",
       "      <td>1.000000</td>\n",
       "      <td>74.000000</td>\n",
       "      <td>124.000000</td>\n",
       "      <td>72.000000</td>\n",
       "      <td>116.000000</td>\n",
       "      <td>2.850000</td>\n",
       "      <td>0.014000</td>\n",
       "    </tr>\n",
       "    <tr>\n",
       "      <th>75%</th>\n",
       "      <td>65.000000</td>\n",
       "      <td>1.000000</td>\n",
       "      <td>85.000000</td>\n",
       "      <td>143.000000</td>\n",
       "      <td>81.000000</td>\n",
       "      <td>169.500000</td>\n",
       "      <td>5.805000</td>\n",
       "      <td>0.085500</td>\n",
       "    </tr>\n",
       "    <tr>\n",
       "      <th>max</th>\n",
       "      <td>103.000000</td>\n",
       "      <td>1.000000</td>\n",
       "      <td>1111.000000</td>\n",
       "      <td>223.000000</td>\n",
       "      <td>154.000000</td>\n",
       "      <td>541.000000</td>\n",
       "      <td>300.000000</td>\n",
       "      <td>10.300000</td>\n",
       "    </tr>\n",
       "  </tbody>\n",
       "</table>\n",
       "</div>"
      ],
      "text/plain": [
       "               age       gender           hr     systolic    diastolic  \\\n",
       "count  1319.000000  1319.000000  1319.000000  1319.000000  1319.000000   \n",
       "mean     56.191812     0.659591    78.336619   127.170584    72.269143   \n",
       "std      13.647315     0.474027    51.630270    26.122720    14.033924   \n",
       "min      14.000000     0.000000    20.000000    42.000000    38.000000   \n",
       "25%      47.000000     0.000000    64.000000   110.000000    62.000000   \n",
       "50%      58.000000     1.000000    74.000000   124.000000    72.000000   \n",
       "75%      65.000000     1.000000    85.000000   143.000000    81.000000   \n",
       "max     103.000000     1.000000  1111.000000   223.000000   154.000000   \n",
       "\n",
       "           glucose          kcm     troponin  \n",
       "count  1319.000000  1319.000000  1319.000000  \n",
       "mean    146.634344    15.274306     0.360942  \n",
       "std      74.923045    46.327083     1.154568  \n",
       "min      35.000000     0.321000     0.001000  \n",
       "25%      98.000000     1.655000     0.006000  \n",
       "50%     116.000000     2.850000     0.014000  \n",
       "75%     169.500000     5.805000     0.085500  \n",
       "max     541.000000   300.000000    10.300000  "
      ]
     },
     "execution_count": 7,
     "metadata": {},
     "output_type": "execute_result"
    }
   ],
   "source": [
    "# detecting outliers numerically\n",
    "data.describe()"
   ]
  },
  {
   "cell_type": "code",
   "execution_count": 8,
   "id": "e0479ff7",
   "metadata": {
    "execution": {
     "iopub.execute_input": "2024-09-13T19:49:50.075373Z",
     "iopub.status.busy": "2024-09-13T19:49:50.074570Z",
     "iopub.status.idle": "2024-09-13T19:49:51.912353Z",
     "shell.execute_reply": "2024-09-13T19:49:51.911347Z"
    },
    "papermill": {
     "duration": 1.856849,
     "end_time": "2024-09-13T19:49:51.914883",
     "exception": false,
     "start_time": "2024-09-13T19:49:50.058034",
     "status": "completed"
    },
    "tags": []
   },
   "outputs": [
    {
     "data": {
      "text/plain": [
       "<Axes: xlabel='age'>"
      ]
     },
     "execution_count": 8,
     "metadata": {},
     "output_type": "execute_result"
    },
    {
     "data": {
      "image/png": "[encoded data removed]",
      "text/plain": [
       "<Figure size 640x480 with 1 Axes>"
      ]
     },
     "metadata": {},
     "output_type": "display_data"
    }
   ],
   "source": [
    "import matplotlib.pyplot as plt\n",
    "import seaborn as sns\n",
    "\n",
    "# detecting outliers visually\n",
    "sns.boxplot(x=data['age'])"
   ]
  },
  {
   "cell_type": "code",
   "execution_count": 9,
   "id": "110573fc",
   "metadata": {
    "execution": {
     "iopub.execute_input": "2024-09-13T19:49:51.947233Z",
     "iopub.status.busy": "2024-09-13T19:49:51.946282Z",
     "iopub.status.idle": "2024-09-13T19:49:52.161676Z",
     "shell.execute_reply": "2024-09-13T19:49:52.160620Z"
    },
    "papermill": {
     "duration": 0.234172,
     "end_time": "2024-09-13T19:49:52.164190",
     "exception": false,
     "start_time": "2024-09-13T19:49:51.930018",
     "status": "completed"
    },
    "tags": []
   },
   "outputs": [
    {
     "data": {
      "text/plain": [
       "<Axes: xlabel='hr'>"
      ]
     },
     "execution_count": 9,
     "metadata": {},
     "output_type": "execute_result"
    },
    {
     "data": {
      "image/png": "[encoded data removed]",
      "text/plain": [
       "<Figure size 640x480 with 1 Axes>"
      ]
     },
     "metadata": {},
     "output_type": "display_data"
    }
   ],
   "source": [
    "sns.boxplot(x=data['hr'])"
   ]
  },
  {
   "cell_type": "code",
   "execution_count": 10,
   "id": "8046fe0b",
   "metadata": {
    "execution": {
     "iopub.execute_input": "2024-09-13T19:49:52.196688Z",
     "iopub.status.busy": "2024-09-13T19:49:52.196326Z",
     "iopub.status.idle": "2024-09-13T19:49:52.427359Z",
     "shell.execute_reply": "2024-09-13T19:49:52.426342Z"
    },
    "papermill": {
     "duration": 0.250239,
     "end_time": "2024-09-13T19:49:52.429962",
     "exception": false,
     "start_time": "2024-09-13T19:49:52.179723",
     "status": "completed"
    },
    "tags": []
   },
   "outputs": [
    {
     "data": {
      "text/plain": [
       "<Axes: xlabel='systolic'>"
      ]
     },
     "execution_count": 10,
     "metadata": {},
     "output_type": "execute_result"
    },
    {
     "data": {
      "image/png": "[encoded data removed]",
      "text/plain": [
       "<Figure size 640x480 with 1 Axes>"
      ]
     },
     "metadata": {},
     "output_type": "display_data"
    }
   ],
   "source": [
    "sns.boxplot(x=data['systolic'])"
   ]
  },
  {
   "cell_type": "code",
   "execution_count": 11,
   "id": "029f7c36",
   "metadata": {
    "execution": {
     "iopub.execute_input": "2024-09-13T19:49:52.462952Z",
     "iopub.status.busy": "2024-09-13T19:49:52.462541Z",
     "iopub.status.idle": "2024-09-13T19:49:52.685138Z",
     "shell.execute_reply": "2024-09-13T19:49:52.684014Z"
    },
    "papermill": {
     "duration": 0.242001,
     "end_time": "2024-09-13T19:49:52.687638",
     "exception": false,
     "start_time": "2024-09-13T19:49:52.445637",
     "status": "completed"
    },
    "tags": []
   },
   "outputs": [
    {
     "data": {
      "text/plain": [
       "<Axes: xlabel='diastolic'>"
      ]
     },
     "execution_count": 11,
     "metadata": {},
     "output_type": "execute_result"
    },
    {
     "data": {
      "image/png": "[encoded data removed]",
      "text/plain": [
       "<Figure size 640x480 with 1 Axes>"
      ]
     },
     "metadata": {},
     "output_type": "display_data"
    }
   ],
   "source": [
    "sns.boxplot(x=data['diastolic'])"
   ]
  },
  {
   "cell_type": "code",
   "execution_count": 12,
   "id": "569b0558",
   "metadata": {
    "execution": {
     "iopub.execute_input": "2024-09-13T19:49:52.720967Z",
     "iopub.status.busy": "2024-09-13T19:49:52.720581Z",
     "iopub.status.idle": "2024-09-13T19:49:52.929742Z",
     "shell.execute_reply": "2024-09-13T19:49:52.928625Z"
    },
    "papermill": {
     "duration": 0.22899,
     "end_time": "2024-09-13T19:49:52.932456",
     "exception": false,
     "start_time": "2024-09-13T19:49:52.703466",
     "status": "completed"
    },
    "tags": []
   },
   "outputs": [
    {
     "data": {
      "text/plain": [
       "<Axes: xlabel='glucose'>"
      ]
     },
     "execution_count": 12,
     "metadata": {},
     "output_type": "execute_result"
    },
    {
     "data": {
      "image/png": "[encoded data removed]",
      "text/plain": [
       "<Figure size 640x480 with 1 Axes>"
      ]
     },
     "metadata": {},
     "output_type": "display_data"
    }
   ],
   "source": [
    "sns.boxplot(x=data['glucose'])"
   ]
  },
  {
   "cell_type": "code",
   "execution_count": 13,
   "id": "c0150c03",
   "metadata": {
    "execution": {
     "iopub.execute_input": "2024-09-13T19:49:52.967812Z",
     "iopub.status.busy": "2024-09-13T19:49:52.966902Z",
     "iopub.status.idle": "2024-09-13T19:49:53.190620Z",
     "shell.execute_reply": "2024-09-13T19:49:53.189521Z"
    },
    "papermill": {
     "duration": 0.244007,
     "end_time": "2024-09-13T19:49:53.193147",
     "exception": false,
     "start_time": "2024-09-13T19:49:52.949140",
     "status": "completed"
    },
    "tags": []
   },
   "outputs": [
    {
     "data": {
      "text/plain": [
       "<Axes: xlabel='kcm'>"
      ]
     },
     "execution_count": 13,
     "metadata": {},
     "output_type": "execute_result"
    },
    {
     "data": {
      "image/png": "[encoded data removed]",
      "text/plain": [
       "<Figure size 640x480 with 1 Axes>"
      ]
     },
     "metadata": {},
     "output_type": "display_data"
    }
   ],
   "source": [
    "sns.boxplot(x=data['kcm'])"
   ]
  },
  {
   "cell_type": "code",
   "execution_count": 14,
   "id": "bfbeb046",
   "metadata": {
    "execution": {
     "iopub.execute_input": "2024-09-13T19:49:53.228324Z",
     "iopub.status.busy": "2024-09-13T19:49:53.227901Z",
     "iopub.status.idle": "2024-09-13T19:49:53.449744Z",
     "shell.execute_reply": "2024-09-13T19:49:53.448567Z"
    },
    "papermill": {
     "duration": 0.242459,
     "end_time": "2024-09-13T19:49:53.452331",
     "exception": false,
     "start_time": "2024-09-13T19:49:53.209872",
     "status": "completed"
    },
    "tags": []
   },
   "outputs": [
    {
     "data": {
      "text/plain": [
       "<Axes: xlabel='troponin'>"
      ]
     },
     "execution_count": 14,
     "metadata": {},
     "output_type": "execute_result"
    },
    {
     "data": {
      "image/png": "[encoded data removed]",
      "text/plain": [
       "<Figure size 640x480 with 1 Axes>"
      ]
     },
     "metadata": {},
     "output_type": "display_data"
    }
   ],
   "source": [
    "sns.boxplot(x=data['troponin'])"
   ]
  },
  {
   "cell_type": "markdown",
   "id": "67230bae",
   "metadata": {
    "papermill": {
     "duration": 0.016866,
     "end_time": "2024-09-13T19:49:53.544757",
     "exception": false,
     "start_time": "2024-09-13T19:49:53.527891",
     "status": "completed"
    },
    "tags": []
   },
   "source": [
    "# Removing Outliers"
   ]
  },
  {
   "cell_type": "code",
   "execution_count": 15,
   "id": "4e433bb1",
   "metadata": {
    "execution": {
     "iopub.execute_input": "2024-09-13T19:49:53.582214Z",
     "iopub.status.busy": "2024-09-13T19:49:53.581400Z",
     "iopub.status.idle": "2024-09-13T19:49:53.632169Z",
     "shell.execute_reply": "2024-09-13T19:49:53.631103Z"
    },
    "papermill": {
     "duration": 0.072611,
     "end_time": "2024-09-13T19:49:53.634711",
     "exception": false,
     "start_time": "2024-09-13T19:49:53.562100",
     "status": "completed"
    },
    "tags": []
   },
   "outputs": [
    {
     "data": {
      "text/html": [
       "<div>\n",
       "<style scoped>\n",
       "    .dataframe tbody tr th:only-of-type {\n",
       "        vertical-align: middle;\n",
       "    }\n",
       "\n",
       "    .dataframe tbody tr th {\n",
       "        vertical-align: top;\n",
       "    }\n",
       "\n",
       "    .dataframe thead th {\n",
       "        text-align: right;\n",
       "    }\n",
       "</style>\n",
       "<table border=\"1\" class=\"dataframe\">\n",
       "  <thead>\n",
       "    <tr style=\"text-align: right;\">\n",
       "      <th></th>\n",
       "      <th>age</th>\n",
       "      <th>gender</th>\n",
       "      <th>hr</th>\n",
       "      <th>systolic</th>\n",
       "      <th>diastolic</th>\n",
       "      <th>glucose</th>\n",
       "      <th>kcm</th>\n",
       "      <th>troponin</th>\n",
       "    </tr>\n",
       "  </thead>\n",
       "  <tbody>\n",
       "    <tr>\n",
       "      <th>count</th>\n",
       "      <td>789.000000</td>\n",
       "      <td>789.000000</td>\n",
       "      <td>789.000000</td>\n",
       "      <td>789.000000</td>\n",
       "      <td>789.000000</td>\n",
       "      <td>789.000000</td>\n",
       "      <td>789.000000</td>\n",
       "      <td>789.000000</td>\n",
       "    </tr>\n",
       "    <tr>\n",
       "      <th>mean</th>\n",
       "      <td>55.603295</td>\n",
       "      <td>0.626109</td>\n",
       "      <td>74.977186</td>\n",
       "      <td>125.590621</td>\n",
       "      <td>71.820025</td>\n",
       "      <td>130.089607</td>\n",
       "      <td>3.117712</td>\n",
       "      <td>0.023231</td>\n",
       "    </tr>\n",
       "    <tr>\n",
       "      <th>std</th>\n",
       "      <td>13.724392</td>\n",
       "      <td>0.484142</td>\n",
       "      <td>13.838425</td>\n",
       "      <td>23.452803</td>\n",
       "      <td>13.411036</td>\n",
       "      <td>47.753047</td>\n",
       "      <td>2.154133</td>\n",
       "      <td>0.035346</td>\n",
       "    </tr>\n",
       "    <tr>\n",
       "      <th>min</th>\n",
       "      <td>21.000000</td>\n",
       "      <td>0.000000</td>\n",
       "      <td>36.000000</td>\n",
       "      <td>65.000000</td>\n",
       "      <td>38.000000</td>\n",
       "      <td>35.000000</td>\n",
       "      <td>0.321000</td>\n",
       "      <td>0.002000</td>\n",
       "    </tr>\n",
       "    <tr>\n",
       "      <th>25%</th>\n",
       "      <td>45.000000</td>\n",
       "      <td>0.000000</td>\n",
       "      <td>63.000000</td>\n",
       "      <td>110.000000</td>\n",
       "      <td>61.000000</td>\n",
       "      <td>96.000000</td>\n",
       "      <td>1.600000</td>\n",
       "      <td>0.005000</td>\n",
       "    </tr>\n",
       "    <tr>\n",
       "      <th>50%</th>\n",
       "      <td>56.000000</td>\n",
       "      <td>1.000000</td>\n",
       "      <td>74.000000</td>\n",
       "      <td>124.000000</td>\n",
       "      <td>71.000000</td>\n",
       "      <td>111.000000</td>\n",
       "      <td>2.490000</td>\n",
       "      <td>0.010000</td>\n",
       "    </tr>\n",
       "    <tr>\n",
       "      <th>75%</th>\n",
       "      <td>66.000000</td>\n",
       "      <td>1.000000</td>\n",
       "      <td>84.000000</td>\n",
       "      <td>143.000000</td>\n",
       "      <td>81.000000</td>\n",
       "      <td>152.000000</td>\n",
       "      <td>4.100000</td>\n",
       "      <td>0.023000</td>\n",
       "    </tr>\n",
       "    <tr>\n",
       "      <th>max</th>\n",
       "      <td>91.000000</td>\n",
       "      <td>1.000000</td>\n",
       "      <td>116.000000</td>\n",
       "      <td>192.000000</td>\n",
       "      <td>105.000000</td>\n",
       "      <td>276.000000</td>\n",
       "      <td>11.940000</td>\n",
       "      <td>0.203000</td>\n",
       "    </tr>\n",
       "  </tbody>\n",
       "</table>\n",
       "</div>"
      ],
      "text/plain": [
       "              age      gender          hr    systolic   diastolic     glucose  \\\n",
       "count  789.000000  789.000000  789.000000  789.000000  789.000000  789.000000   \n",
       "mean    55.603295    0.626109   74.977186  125.590621   71.820025  130.089607   \n",
       "std     13.724392    0.484142   13.838425   23.452803   13.411036   47.753047   \n",
       "min     21.000000    0.000000   36.000000   65.000000   38.000000   35.000000   \n",
       "25%     45.000000    0.000000   63.000000  110.000000   61.000000   96.000000   \n",
       "50%     56.000000    1.000000   74.000000  124.000000   71.000000  111.000000   \n",
       "75%     66.000000    1.000000   84.000000  143.000000   81.000000  152.000000   \n",
       "max     91.000000    1.000000  116.000000  192.000000  105.000000  276.000000   \n",
       "\n",
       "              kcm    troponin  \n",
       "count  789.000000  789.000000  \n",
       "mean     3.117712    0.023231  \n",
       "std      2.154133    0.035346  \n",
       "min      0.321000    0.002000  \n",
       "25%      1.600000    0.005000  \n",
       "50%      2.490000    0.010000  \n",
       "75%      4.100000    0.023000  \n",
       "max     11.940000    0.203000  "
      ]
     },
     "execution_count": 15,
     "metadata": {},
     "output_type": "execute_result"
    }
   ],
   "source": [
    "# removing outliers using IQR\n",
    "new_data = data.copy()\n",
    "new_data['heart_attack'] = new_data['heart_attack'].replace(['positive', 'negative'], [1, 0])\n",
    "\n",
    "Q1 = new_data.quantile(0.25)\n",
    "Q3 = new_data.quantile(0.75)\n",
    "IQR = Q3 - Q1    \n",
    "new_data = new_data[~((new_data < (Q1 - 1.5 * IQR)) |(new_data > (Q3 + 1.5 * IQR))).any(axis=1)]\n",
    "\n",
    "new_data['heart_attack'] = new_data['heart_attack'].replace([1, 0], ['positive', 'negative'])\n",
    "\n",
    "# confirm outliers removed\n",
    "new_data.describe()"
   ]
  },
  {
   "cell_type": "markdown",
   "id": "24eaab3e",
   "metadata": {
    "papermill": {
     "duration": 0.01714,
     "end_time": "2024-09-13T19:49:53.669617",
     "exception": false,
     "start_time": "2024-09-13T19:49:53.652477",
     "status": "completed"
    },
    "tags": []
   },
   "source": [
    "# Independent T-test"
   ]
  },
  {
   "cell_type": "code",
   "execution_count": 16,
   "id": "df13c287",
   "metadata": {
    "execution": {
     "iopub.execute_input": "2024-09-13T19:49:53.706235Z",
     "iopub.status.busy": "2024-09-13T19:49:53.705864Z",
     "iopub.status.idle": "2024-09-13T19:49:53.727618Z",
     "shell.execute_reply": "2024-09-13T19:49:53.726470Z"
    },
    "papermill": {
     "duration": 0.04307,
     "end_time": "2024-09-13T19:49:53.730055",
     "exception": false,
     "start_time": "2024-09-13T19:49:53.686985",
     "status": "completed"
    },
    "tags": []
   },
   "outputs": [
    {
     "data": {
      "text/html": [
       "<div>\n",
       "<style scoped>\n",
       "    .dataframe tbody tr th:only-of-type {\n",
       "        vertical-align: middle;\n",
       "    }\n",
       "\n",
       "    .dataframe tbody tr th {\n",
       "        vertical-align: top;\n",
       "    }\n",
       "\n",
       "    .dataframe thead th {\n",
       "        text-align: right;\n",
       "    }\n",
       "</style>\n",
       "<table border=\"1\" class=\"dataframe\">\n",
       "  <thead>\n",
       "    <tr style=\"text-align: right;\">\n",
       "      <th></th>\n",
       "      <th>age</th>\n",
       "      <th>gender</th>\n",
       "      <th>hr</th>\n",
       "      <th>systolic</th>\n",
       "      <th>diastolic</th>\n",
       "      <th>glucose</th>\n",
       "      <th>kcm</th>\n",
       "      <th>troponin</th>\n",
       "    </tr>\n",
       "    <tr>\n",
       "      <th>heart_attack</th>\n",
       "      <th></th>\n",
       "      <th></th>\n",
       "      <th></th>\n",
       "      <th></th>\n",
       "      <th></th>\n",
       "      <th></th>\n",
       "      <th></th>\n",
       "      <th></th>\n",
       "    </tr>\n",
       "  </thead>\n",
       "  <tbody>\n",
       "    <tr>\n",
       "      <th>negative</th>\n",
       "      <td>52.076577</td>\n",
       "      <td>0.587838</td>\n",
       "      <td>75.400901</td>\n",
       "      <td>126.470721</td>\n",
       "      <td>72.198198</td>\n",
       "      <td>131.600676</td>\n",
       "      <td>2.574489</td>\n",
       "      <td>0.006633</td>\n",
       "    </tr>\n",
       "    <tr>\n",
       "      <th>positive</th>\n",
       "      <td>60.142029</td>\n",
       "      <td>0.675362</td>\n",
       "      <td>74.431884</td>\n",
       "      <td>124.457971</td>\n",
       "      <td>71.333333</td>\n",
       "      <td>128.144928</td>\n",
       "      <td>3.816817</td>\n",
       "      <td>0.044591</td>\n",
       "    </tr>\n",
       "  </tbody>\n",
       "</table>\n",
       "</div>"
      ],
      "text/plain": [
       "                    age    gender         hr    systolic  diastolic  \\\n",
       "heart_attack                                                          \n",
       "negative      52.076577  0.587838  75.400901  126.470721  72.198198   \n",
       "positive      60.142029  0.675362  74.431884  124.457971  71.333333   \n",
       "\n",
       "                 glucose       kcm  troponin  \n",
       "heart_attack                                  \n",
       "negative      131.600676  2.574489  0.006633  \n",
       "positive      128.144928  3.816817  0.044591  "
      ]
     },
     "execution_count": 16,
     "metadata": {},
     "output_type": "execute_result"
    }
   ],
   "source": [
    "# mean for each risk factor by presence of heart attack\n",
    "MI_mean = new_data.groupby('heart_attack').mean()\n",
    "MI_mean"
   ]
  },
  {
   "cell_type": "code",
   "execution_count": 17,
   "id": "36ccf873",
   "metadata": {
    "execution": {
     "iopub.execute_input": "2024-09-13T19:49:53.768370Z",
     "iopub.status.busy": "2024-09-13T19:49:53.767416Z",
     "iopub.status.idle": "2024-09-13T19:49:53.775560Z",
     "shell.execute_reply": "2024-09-13T19:49:53.774378Z"
    },
    "papermill": {
     "duration": 0.029944,
     "end_time": "2024-09-13T19:49:53.778007",
     "exception": false,
     "start_time": "2024-09-13T19:49:53.748063",
     "status": "completed"
    },
    "tags": []
   },
   "outputs": [],
   "source": [
    "from scipy.stats import ttest_ind\n",
    "\n",
    "# performing t-test on all risk factors\n",
    "group1 = new_data[new_data['heart_attack'] == 'negative']\n",
    "group2 = new_data[new_data['heart_attack'] == 'positive']"
   ]
  },
  {
   "cell_type": "code",
   "execution_count": 18,
   "id": "9c023537",
   "metadata": {
    "execution": {
     "iopub.execute_input": "2024-09-13T19:49:53.816484Z",
     "iopub.status.busy": "2024-09-13T19:49:53.816073Z",
     "iopub.status.idle": "2024-09-13T19:49:53.827658Z",
     "shell.execute_reply": "2024-09-13T19:49:53.826545Z"
    },
    "papermill": {
     "duration": 0.033732,
     "end_time": "2024-09-13T19:49:53.830129",
     "exception": false,
     "start_time": "2024-09-13T19:49:53.796397",
     "status": "completed"
    },
    "tags": []
   },
   "outputs": [
    {
     "data": {
      "text/plain": [
       "TtestResult(statistic=-17.674599344159148, pvalue=3.9652364096817557e-59, df=787.0)"
      ]
     },
     "execution_count": 18,
     "metadata": {},
     "output_type": "execute_result"
    }
   ],
   "source": [
    "trop_ttest = ttest_ind(group1['troponin'], group2['troponin'])\n",
    "trop_ttest"
   ]
  },
  {
   "cell_type": "code",
   "execution_count": 19,
   "id": "7111818d",
   "metadata": {
    "execution": {
     "iopub.execute_input": "2024-09-13T19:49:53.870072Z",
     "iopub.status.busy": "2024-09-13T19:49:53.869173Z",
     "iopub.status.idle": "2024-09-13T19:49:53.879100Z",
     "shell.execute_reply": "2024-09-13T19:49:53.878023Z"
    },
    "papermill": {
     "duration": 0.031557,
     "end_time": "2024-09-13T19:49:53.881519",
     "exception": false,
     "start_time": "2024-09-13T19:49:53.849962",
     "status": "completed"
    },
    "tags": []
   },
   "outputs": [
    {
     "data": {
      "text/plain": [
       "TtestResult(statistic=-8.381400116496913, pvalue=2.39757685617496e-16, df=787.0)"
      ]
     },
     "execution_count": 19,
     "metadata": {},
     "output_type": "execute_result"
    }
   ],
   "source": [
    "kcm_ttest = ttest_ind(group1['kcm'], group2['kcm'])\n",
    "kcm_ttest"
   ]
  },
  {
   "cell_type": "code",
   "execution_count": 20,
   "id": "36d6198d",
   "metadata": {
    "execution": {
     "iopub.execute_input": "2024-09-13T19:49:53.920357Z",
     "iopub.status.busy": "2024-09-13T19:49:53.919441Z",
     "iopub.status.idle": "2024-09-13T19:49:53.928567Z",
     "shell.execute_reply": "2024-09-13T19:49:53.927533Z"
    },
    "papermill": {
     "duration": 0.031145,
     "end_time": "2024-09-13T19:49:53.930945",
     "exception": false,
     "start_time": "2024-09-13T19:49:53.899800",
     "status": "completed"
    },
    "tags": []
   },
   "outputs": [
    {
     "data": {
      "text/plain": [
       "TtestResult(statistic=1.008342664140384, pvalue=0.3135999026661585, df=787.0)"
      ]
     },
     "execution_count": 20,
     "metadata": {},
     "output_type": "execute_result"
    }
   ],
   "source": [
    "glc_ttest = ttest_ind(group1['glucose'], group2['glucose'])\n",
    "glc_ttest"
   ]
  },
  {
   "cell_type": "code",
   "execution_count": 21,
   "id": "910a7f3a",
   "metadata": {
    "execution": {
     "iopub.execute_input": "2024-09-13T19:49:53.970373Z",
     "iopub.status.busy": "2024-09-13T19:49:53.969619Z",
     "iopub.status.idle": "2024-09-13T19:49:53.978599Z",
     "shell.execute_reply": "2024-09-13T19:49:53.977583Z"
    },
    "papermill": {
     "duration": 0.031466,
     "end_time": "2024-09-13T19:49:53.981082",
     "exception": false,
     "start_time": "2024-09-13T19:49:53.949616",
     "status": "completed"
    },
    "tags": []
   },
   "outputs": [
    {
     "data": {
      "text/plain": [
       "TtestResult(statistic=0.8984529070887843, pvalue=0.3692189294869921, df=787.0)"
      ]
     },
     "execution_count": 21,
     "metadata": {},
     "output_type": "execute_result"
    }
   ],
   "source": [
    "diastolic_ttest = ttest_ind(group1['diastolic'], group2['diastolic'])\n",
    "diastolic_ttest"
   ]
  },
  {
   "cell_type": "code",
   "execution_count": 22,
   "id": "10b7a52b",
   "metadata": {
    "execution": {
     "iopub.execute_input": "2024-09-13T19:49:54.020445Z",
     "iopub.status.busy": "2024-09-13T19:49:54.019716Z",
     "iopub.status.idle": "2024-09-13T19:49:54.029144Z",
     "shell.execute_reply": "2024-09-13T19:49:54.028061Z"
    },
    "papermill": {
     "duration": 0.031949,
     "end_time": "2024-09-13T19:49:54.031578",
     "exception": false,
     "start_time": "2024-09-13T19:49:53.999629",
     "status": "completed"
    },
    "tags": []
   },
   "outputs": [
    {
     "data": {
      "text/plain": [
       "TtestResult(statistic=1.1961239976745672, pvalue=0.23200841360136173, df=787.0)"
      ]
     },
     "execution_count": 22,
     "metadata": {},
     "output_type": "execute_result"
    }
   ],
   "source": [
    "systolic_ttest = ttest_ind(group1['systolic'], group2['systolic'])\n",
    "systolic_ttest"
   ]
  },
  {
   "cell_type": "code",
   "execution_count": 23,
   "id": "5688e695",
   "metadata": {
    "execution": {
     "iopub.execute_input": "2024-09-13T19:49:54.071638Z",
     "iopub.status.busy": "2024-09-13T19:49:54.070770Z",
     "iopub.status.idle": "2024-09-13T19:49:54.080512Z",
     "shell.execute_reply": "2024-09-13T19:49:54.079357Z"
    },
    "papermill": {
     "duration": 0.032303,
     "end_time": "2024-09-13T19:49:54.082888",
     "exception": false,
     "start_time": "2024-09-13T19:49:54.050585",
     "status": "completed"
    },
    "tags": []
   },
   "outputs": [
    {
     "data": {
      "text/plain": [
       "TtestResult(statistic=0.9756497177784661, pvalue=0.3295378687193534, df=787.0)"
      ]
     },
     "execution_count": 23,
     "metadata": {},
     "output_type": "execute_result"
    }
   ],
   "source": [
    "hr_ttest = ttest_ind(group1['hr'], group2['hr'])\n",
    "hr_ttest"
   ]
  },
  {
   "cell_type": "code",
   "execution_count": 24,
   "id": "b65c12c6",
   "metadata": {
    "execution": {
     "iopub.execute_input": "2024-09-13T19:49:54.123425Z",
     "iopub.status.busy": "2024-09-13T19:49:54.122605Z",
     "iopub.status.idle": "2024-09-13T19:49:54.132947Z",
     "shell.execute_reply": "2024-09-13T19:49:54.131847Z"
    },
    "papermill": {
     "duration": 0.033378,
     "end_time": "2024-09-13T19:49:54.135361",
     "exception": false,
     "start_time": "2024-09-13T19:49:54.101983",
     "status": "completed"
    },
    "tags": []
   },
   "outputs": [
    {
     "data": {
      "text/plain": [
       "TtestResult(statistic=-8.555252729675994, pvalue=6.107283513038615e-17, df=787.0)"
      ]
     },
     "execution_count": 24,
     "metadata": {},
     "output_type": "execute_result"
    }
   ],
   "source": [
    "age_ttest = ttest_ind(group1['age'], group2['age'])\n",
    "age_ttest"
   ]
  },
  {
   "cell_type": "code",
   "execution_count": 25,
   "id": "8ba11654",
   "metadata": {
    "execution": {
     "iopub.execute_input": "2024-09-13T19:49:54.175012Z",
     "iopub.status.busy": "2024-09-13T19:49:54.174627Z",
     "iopub.status.idle": "2024-09-13T19:49:54.184201Z",
     "shell.execute_reply": "2024-09-13T19:49:54.183255Z"
    },
    "papermill": {
     "duration": 0.032111,
     "end_time": "2024-09-13T19:49:54.186532",
     "exception": false,
     "start_time": "2024-09-13T19:49:54.154421",
     "status": "completed"
    },
    "tags": []
   },
   "outputs": [
    {
     "data": {
      "text/plain": [
       "TtestResult(statistic=-2.527545845038742, pvalue=0.011680974469955786, df=787.0)"
      ]
     },
     "execution_count": 25,
     "metadata": {},
     "output_type": "execute_result"
    }
   ],
   "source": [
    "gender_ttest = ttest_ind(group1['gender'], group2['gender'])\n",
    "gender_ttest"
   ]
  },
  {
   "cell_type": "code",
   "execution_count": 26,
   "id": "e40d8156",
   "metadata": {
    "execution": {
     "iopub.execute_input": "2024-09-13T19:49:54.227219Z",
     "iopub.status.busy": "2024-09-13T19:49:54.226155Z",
     "iopub.status.idle": "2024-09-13T19:49:54.247021Z",
     "shell.execute_reply": "2024-09-13T19:49:54.246034Z"
    },
    "papermill": {
     "duration": 0.043647,
     "end_time": "2024-09-13T19:49:54.249418",
     "exception": false,
     "start_time": "2024-09-13T19:49:54.205771",
     "status": "completed"
    },
    "tags": []
   },
   "outputs": [
    {
     "data": {
      "text/html": [
       "<div>\n",
       "<style scoped>\n",
       "    .dataframe tbody tr th:only-of-type {\n",
       "        vertical-align: middle;\n",
       "    }\n",
       "\n",
       "    .dataframe tbody tr th {\n",
       "        vertical-align: top;\n",
       "    }\n",
       "\n",
       "    .dataframe thead th {\n",
       "        text-align: right;\n",
       "    }\n",
       "</style>\n",
       "<table border=\"1\" class=\"dataframe\">\n",
       "  <thead>\n",
       "    <tr style=\"text-align: right;\">\n",
       "      <th></th>\n",
       "      <th>factor</th>\n",
       "      <th>pvalue</th>\n",
       "      <th>heart_attack_mean</th>\n",
       "      <th>control_mean</th>\n",
       "    </tr>\n",
       "  </thead>\n",
       "  <tbody>\n",
       "    <tr>\n",
       "      <th>0</th>\n",
       "      <td>CK-MB</td>\n",
       "      <td>2.40e-16</td>\n",
       "      <td>3.816817</td>\n",
       "      <td>2.574489</td>\n",
       "    </tr>\n",
       "    <tr>\n",
       "      <th>1</th>\n",
       "      <td>troponin</td>\n",
       "      <td>3.97e-59</td>\n",
       "      <td>0.044591</td>\n",
       "      <td>0.006633</td>\n",
       "    </tr>\n",
       "    <tr>\n",
       "      <th>2</th>\n",
       "      <td>glucose</td>\n",
       "      <td>3.14e-01</td>\n",
       "      <td>128.144928</td>\n",
       "      <td>131.600676</td>\n",
       "    </tr>\n",
       "    <tr>\n",
       "      <th>3</th>\n",
       "      <td>systolic</td>\n",
       "      <td>2.32e-01</td>\n",
       "      <td>124.457971</td>\n",
       "      <td>126.470721</td>\n",
       "    </tr>\n",
       "    <tr>\n",
       "      <th>4</th>\n",
       "      <td>diastolic</td>\n",
       "      <td>3.69e-01</td>\n",
       "      <td>71.333333</td>\n",
       "      <td>72.198198</td>\n",
       "    </tr>\n",
       "    <tr>\n",
       "      <th>5</th>\n",
       "      <td>hr</td>\n",
       "      <td>3.30e-01</td>\n",
       "      <td>74.431884</td>\n",
       "      <td>75.400901</td>\n",
       "    </tr>\n",
       "    <tr>\n",
       "      <th>6</th>\n",
       "      <td>age</td>\n",
       "      <td>6.11e-17</td>\n",
       "      <td>60.142029</td>\n",
       "      <td>52.076577</td>\n",
       "    </tr>\n",
       "    <tr>\n",
       "      <th>7</th>\n",
       "      <td>gender</td>\n",
       "      <td>1.17e-02</td>\n",
       "      <td>0.675362</td>\n",
       "      <td>0.587838</td>\n",
       "    </tr>\n",
       "  </tbody>\n",
       "</table>\n",
       "</div>"
      ],
      "text/plain": [
       "      factor    pvalue  heart_attack_mean  control_mean\n",
       "0      CK-MB  2.40e-16           3.816817      2.574489\n",
       "1   troponin  3.97e-59           0.044591      0.006633\n",
       "2    glucose  3.14e-01         128.144928    131.600676\n",
       "3   systolic  2.32e-01         124.457971    126.470721\n",
       "4  diastolic  3.69e-01          71.333333     72.198198\n",
       "5         hr  3.30e-01          74.431884     75.400901\n",
       "6        age  6.11e-17          60.142029     52.076577\n",
       "7     gender  1.17e-02           0.675362      0.587838"
      ]
     },
     "execution_count": 26,
     "metadata": {},
     "output_type": "execute_result"
    }
   ],
   "source": [
    "# create new data frame with t-test results for each risk factor\n",
    "ttest_results = pd.DataFrame({'factor': ['CK-MB', 'troponin', 'glucose', 'systolic', 'diastolic', 'hr', 'age', 'gender'], \n",
    "                              'pvalue': [\"{:.2e}\".format(kcm_ttest.pvalue), \"{:.2e}\".format(trop_ttest.pvalue), \"{:.2e}\".format(glc_ttest.pvalue), \"{:.2e}\".format(systolic_ttest.pvalue), \"{:.2e}\".format(diastolic_ttest.pvalue), \"{:.2e}\".format(hr_ttest.pvalue), \"{:.2e}\".format(age_ttest.pvalue), \"{:.2e}\".format(gender_ttest.pvalue)], \n",
    "                              'heart_attack_mean': [MI_mean.kcm.loc['positive'], MI_mean.troponin.loc['positive'], MI_mean.glucose.loc['positive'], MI_mean.systolic.loc['positive'], MI_mean.diastolic.loc['positive'], MI_mean.hr.loc['positive'], MI_mean.age.loc['positive'], MI_mean.gender.loc['positive']], \n",
    "                              'control_mean': [MI_mean.kcm.loc['negative'], MI_mean.troponin.loc['negative'], MI_mean.glucose.loc['negative'], MI_mean.systolic.loc['negative'], MI_mean.diastolic.loc['negative'], MI_mean.hr.loc['negative'], MI_mean.age.loc['negative'], MI_mean.gender.loc['negative']]})\n",
    "\n",
    "ttest_results"
   ]
  },
  {
   "cell_type": "markdown",
   "id": "bb2d9bd9",
   "metadata": {
    "papermill": {
     "duration": 0.019096,
     "end_time": "2024-09-13T19:49:54.287789",
     "exception": false,
     "start_time": "2024-09-13T19:49:54.268693",
     "status": "completed"
    },
    "tags": []
   },
   "source": [
    "# Plotting Different Features"
   ]
  },
  {
   "cell_type": "code",
   "execution_count": 27,
   "id": "8321df84",
   "metadata": {
    "execution": {
     "iopub.execute_input": "2024-09-13T19:49:54.327638Z",
     "iopub.status.busy": "2024-09-13T19:49:54.327238Z",
     "iopub.status.idle": "2024-09-13T19:49:54.698840Z",
     "shell.execute_reply": "2024-09-13T19:49:54.697622Z"
    },
    "papermill": {
     "duration": 0.394454,
     "end_time": "2024-09-13T19:49:54.701320",
     "exception": false,
     "start_time": "2024-09-13T19:49:54.306866",
     "status": "completed"
    },
    "tags": []
   },
   "outputs": [
    {
     "data": {
      "image/png": "[encoded data removed]",
      "text/plain": [
       "<Figure size 640x480 with 1 Axes>"
      ]
     },
     "metadata": {},
     "output_type": "display_data"
    }
   ],
   "source": [
    "# histogram to compare presence of heart attack by age\n",
    "sns.histplot(new_data, x='age', hue='heart_attack', edgecolor='white')\n",
    "plt.title('Age distribution by heart attack presence')\n",
    "plt.xlabel('Age')\n",
    "plt.ylabel('Number of Patients')\n",
    "plt.show()"
   ]
  },
  {
   "cell_type": "markdown",
   "id": "01a7cb8c",
   "metadata": {
    "papermill": {
     "duration": 0.019753,
     "end_time": "2024-09-13T19:49:54.741023",
     "exception": false,
     "start_time": "2024-09-13T19:49:54.721270",
     "status": "completed"
    },
    "tags": []
   },
   "source": [
    "* demonstrates that heart attacks are more prevalent as you age"
   ]
  },
  {
   "cell_type": "code",
   "execution_count": 28,
   "id": "af292a1f",
   "metadata": {
    "execution": {
     "iopub.execute_input": "2024-09-13T19:49:54.782194Z",
     "iopub.status.busy": "2024-09-13T19:49:54.781811Z",
     "iopub.status.idle": "2024-09-13T19:49:55.320698Z",
     "shell.execute_reply": "2024-09-13T19:49:55.319606Z"
    },
    "papermill": {
     "duration": 0.562247,
     "end_time": "2024-09-13T19:49:55.323037",
     "exception": false,
     "start_time": "2024-09-13T19:49:54.760790",
     "status": "completed"
    },
    "tags": []
   },
   "outputs": [
    {
     "data": {
      "image/png": "[encoded data removed]",
      "text/plain": [
       "<Figure size 640x480 with 1 Axes>"
      ]
     },
     "metadata": {},
     "output_type": "display_data"
    }
   ],
   "source": [
    "# histogram to compare presence of heart attack by troponin level\n",
    "sns.histplot(new_data, x='troponin', hue='heart_attack', edgecolor='white')\n",
    "plt.title('Troponin distribution by heart attack presence')\n",
    "plt.xlabel('Troponin level')\n",
    "plt.ylabel('Number of Patients')\n",
    "plt.show()"
   ]
  },
  {
   "cell_type": "markdown",
   "id": "5a68eb43",
   "metadata": {
    "papermill": {
     "duration": 0.020187,
     "end_time": "2024-09-13T19:49:55.363462",
     "exception": false,
     "start_time": "2024-09-13T19:49:55.343275",
     "status": "completed"
    },
    "tags": []
   },
   "source": [
    "* less likely to develop heart attack with low troponin\n",
    "* all patients had heart attack when above a certain troponin threshold (slightly lower than 0.025)"
   ]
  },
  {
   "cell_type": "code",
   "execution_count": 29,
   "id": "f9253f60",
   "metadata": {
    "execution": {
     "iopub.execute_input": "2024-09-13T19:49:55.406075Z",
     "iopub.status.busy": "2024-09-13T19:49:55.405672Z",
     "iopub.status.idle": "2024-09-13T19:49:55.774262Z",
     "shell.execute_reply": "2024-09-13T19:49:55.773117Z"
    },
    "papermill": {
     "duration": 0.39313,
     "end_time": "2024-09-13T19:49:55.777064",
     "exception": false,
     "start_time": "2024-09-13T19:49:55.383934",
     "status": "completed"
    },
    "tags": []
   },
   "outputs": [
    {
     "data": {
      "image/png": "[encoded data removed]",
      "text/plain": [
       "<Figure size 640x480 with 1 Axes>"
      ]
     },
     "metadata": {},
     "output_type": "display_data"
    }
   ],
   "source": [
    "# histogram to compare presence of heart attack by CK-MB level\n",
    "sns.histplot(new_data, x='kcm', hue='heart_attack', edgecolor='white')\n",
    "plt.title('CK-MB distribution by heart attack presence')\n",
    "plt.xlabel('CK-MB level')\n",
    "plt.ylabel('Number of Patients')\n",
    "plt.show()"
   ]
  },
  {
   "cell_type": "markdown",
   "id": "e31733a7",
   "metadata": {
    "papermill": {
     "duration": 0.020949,
     "end_time": "2024-09-13T19:49:55.819026",
     "exception": false,
     "start_time": "2024-09-13T19:49:55.798077",
     "status": "completed"
    },
    "tags": []
   },
   "source": [
    "* most of the patient population had a relatively low CK-MB level (right-skewed)\n",
    "* all patients with CK-MB level above 7 had a heart attack"
   ]
  },
  {
   "cell_type": "markdown",
   "id": "b2d404da",
   "metadata": {
    "papermill": {
     "duration": 0.02178,
     "end_time": "2024-09-13T19:49:55.861958",
     "exception": false,
     "start_time": "2024-09-13T19:49:55.840178",
     "status": "completed"
    },
    "tags": []
   },
   "source": [
    "### scatterplots evaluating the relationships between the top 3 strongest risk factors for heart attack:"
   ]
  },
  {
   "cell_type": "code",
   "execution_count": 30,
   "id": "c6d04bc6",
   "metadata": {
    "execution": {
     "iopub.execute_input": "2024-09-13T19:49:55.905418Z",
     "iopub.status.busy": "2024-09-13T19:49:55.904973Z",
     "iopub.status.idle": "2024-09-13T19:49:56.191969Z",
     "shell.execute_reply": "2024-09-13T19:49:56.191006Z"
    },
    "papermill": {
     "duration": 0.311573,
     "end_time": "2024-09-13T19:49:56.194512",
     "exception": false,
     "start_time": "2024-09-13T19:49:55.882939",
     "status": "completed"
    },
    "tags": []
   },
   "outputs": [
    {
     "data": {
      "image/png": "[encoded data removed]",
      "text/plain": [
       "<Figure size 640x480 with 1 Axes>"
      ]
     },
     "metadata": {},
     "output_type": "display_data"
    }
   ],
   "source": [
    "# evaluating correlation between troponin level and age\n",
    "sns.scatterplot(data=new_data, x='kcm', y='troponin')\n",
    "plt.title('Troponin distribution by age')\n",
    "plt.xlabel('Age')\n",
    "plt.ylabel('Troponin level')\n",
    "plt.show()"
   ]
  },
  {
   "cell_type": "markdown",
   "id": "aead2ca4",
   "metadata": {
    "papermill": {
     "duration": 0.0217,
     "end_time": "2024-09-13T19:49:56.237937",
     "exception": false,
     "start_time": "2024-09-13T19:49:56.216237",
     "status": "completed"
    },
    "tags": []
   },
   "source": [
    "* no correlation between troponin and age"
   ]
  },
  {
   "cell_type": "code",
   "execution_count": 31,
   "id": "4cc7a1fc",
   "metadata": {
    "execution": {
     "iopub.execute_input": "2024-09-13T19:49:56.284199Z",
     "iopub.status.busy": "2024-09-13T19:49:56.283797Z",
     "iopub.status.idle": "2024-09-13T19:49:56.613939Z",
     "shell.execute_reply": "2024-09-13T19:49:56.612867Z"
    },
    "papermill": {
     "duration": 0.35596,
     "end_time": "2024-09-13T19:49:56.616613",
     "exception": false,
     "start_time": "2024-09-13T19:49:56.260653",
     "status": "completed"
    },
    "tags": []
   },
   "outputs": [
    {
     "data": {
      "image/png": "[encoded data removed]",
      "text/plain": [
       "<Figure size 640x480 with 1 Axes>"
      ]
     },
     "metadata": {},
     "output_type": "display_data"
    }
   ],
   "source": [
    "# evaluating correlation between ck-mb level and age\n",
    "sns.scatterplot(data=new_data, x='age', y='kcm')\n",
    "plt.title('CK-MB distribution by age')\n",
    "plt.xlabel('Age')\n",
    "plt.ylabel('CK-MB level')\n",
    "plt.show()"
   ]
  },
  {
   "cell_type": "markdown",
   "id": "64e6f11c",
   "metadata": {
    "papermill": {
     "duration": 0.02232,
     "end_time": "2024-09-13T19:49:56.661869",
     "exception": false,
     "start_time": "2024-09-13T19:49:56.639549",
     "status": "completed"
    },
    "tags": []
   },
   "source": [
    "* no correlation between ck-mb level and age"
   ]
  },
  {
   "cell_type": "code",
   "execution_count": 32,
   "id": "97fb46ad",
   "metadata": {
    "execution": {
     "iopub.execute_input": "2024-09-13T19:49:56.709272Z",
     "iopub.status.busy": "2024-09-13T19:49:56.708325Z",
     "iopub.status.idle": "2024-09-13T19:49:57.141895Z",
     "shell.execute_reply": "2024-09-13T19:49:57.140909Z"
    },
    "papermill": {
     "duration": 0.460418,
     "end_time": "2024-09-13T19:49:57.144701",
     "exception": false,
     "start_time": "2024-09-13T19:49:56.684283",
     "status": "completed"
    },
    "tags": []
   },
   "outputs": [
    {
     "data": {
      "image/png": "[encoded data removed]",
      "text/plain": [
       "<Figure size 640x480 with 1 Axes>"
      ]
     },
     "metadata": {},
     "output_type": "display_data"
    }
   ],
   "source": [
    "# evaluating correlation between ck-mb level and troponin\n",
    "sns.scatterplot(data=new_data, x='troponin', y='kcm')\n",
    "plt.title('CK-MB and Troponin level correlation')\n",
    "plt.xlabel('Troponin')\n",
    "plt.ylabel('CK-MB level')\n",
    "plt.show()"
   ]
  },
  {
   "cell_type": "markdown",
   "id": "e812f32c",
   "metadata": {
    "papermill": {
     "duration": 0.023395,
     "end_time": "2024-09-13T19:49:57.191598",
     "exception": false,
     "start_time": "2024-09-13T19:49:57.168203",
     "status": "completed"
    },
    "tags": []
   },
   "source": [
    "* varying CK-MB level in patients with low troponin\n",
    "* high troponin level not really correlated with high CK-MB level"
   ]
  }
 ],
 "metadata": {
  "kaggle": {
   "accelerator": "none",
   "dataSources": [
    {
     "datasetId": 3551682,
     "sourceId": 6188300,
     "sourceType": "datasetVersion"
    }
   ],
   "dockerImageVersionId": 30553,
   "isGpuEnabled": false,
   "isInternetEnabled": true,
   "language": "python",
   "sourceType": "notebook"
  },
  "kernelspec": {
   "display_name": "Python 3",
   "language": "python",
   "name": "python3"
  },
  "language_info": {
   "codemirror_mode": {
    "name": "ipython",
    "version": 3
   },
   "file_extension": ".py",
   "mimetype": "text/x-python",
   "name": "python",
   "nbconvert_exporter": "python",
   "pygments_lexer": "ipython3",
   "version": "3.10.12"
  },
  "papermill": {
   "default_parameters": {},
   "duration": 13.186082,
   "end_time": "2024-09-13T19:49:57.837175",
   "environment_variables": {},
   "exception": null,
   "input_path": "__notebook__.ipynb",
   "output_path": "__notebook__.ipynb",
   "parameters": {},
   "start_time": "2024-09-13T19:49:44.651093",
   "version": "2.4.0"
  }
 },
 "nbformat": 4,
 "nbformat_minor": 5
}
